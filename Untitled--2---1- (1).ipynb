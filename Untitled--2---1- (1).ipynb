{
 "cells": [
  {
   "cell_type": "code",
   "execution_count": 1,
   "id": "4d90e5c9-2f62-4140-bb79-d58a702fe5b7",
   "metadata": {},
   "outputs": [],
   "source": [
    "#Selenium"
   ]
  },
  {
   "cell_type": "code",
   "execution_count": 1,
   "id": "920cafd1-a73b-4ffe-84b9-cccf9fb8a29e",
   "metadata": {},
   "outputs": [
    {
     "name": "stdout",
     "output_type": "stream",
     "text": [
      "Requirement already satisfied: selenium in c:\\users\\hp\\anacondanew\\lib\\site-packages (4.15.2)\n",
      "Requirement already satisfied: urllib3<3,>=1.26 in c:\\users\\hp\\anacondanew\\lib\\site-packages (from urllib3[socks]<3,>=1.26->selenium) (2.0.7)\n",
      "Requirement already satisfied: trio~=0.17 in c:\\users\\hp\\anacondanew\\lib\\site-packages (from selenium) (0.22.2)\n",
      "Requirement already satisfied: trio-websocket~=0.9 in c:\\users\\hp\\anacondanew\\lib\\site-packages (from selenium) (0.10.3)\n",
      "Requirement already satisfied: certifi>=2021.10.8 in c:\\users\\hp\\anacondanew\\lib\\site-packages (from selenium) (2024.2.2)\n",
      "Requirement already satisfied: attrs>=20.1.0 in c:\\users\\hp\\anacondanew\\lib\\site-packages (from trio~=0.17->selenium) (23.1.0)\n",
      "Requirement already satisfied: sortedcontainers in c:\\users\\hp\\anacondanew\\lib\\site-packages (from trio~=0.17->selenium) (2.4.0)\n",
      "Requirement already satisfied: idna in c:\\users\\hp\\anacondanew\\lib\\site-packages (from trio~=0.17->selenium) (3.4)\n",
      "Requirement already satisfied: outcome in c:\\users\\hp\\anacondanew\\lib\\site-packages (from trio~=0.17->selenium) (1.2.0)\n",
      "Requirement already satisfied: sniffio in c:\\users\\hp\\anacondanew\\lib\\site-packages (from trio~=0.17->selenium) (1.3.0)\n",
      "Requirement already satisfied: cffi>=1.14 in c:\\users\\hp\\anacondanew\\lib\\site-packages (from trio~=0.17->selenium) (1.16.0)\n",
      "Requirement already satisfied: exceptiongroup in c:\\users\\hp\\anacondanew\\lib\\site-packages (from trio-websocket~=0.9->selenium) (1.1.2)\n",
      "Requirement already satisfied: wsproto>=0.14 in c:\\users\\hp\\anacondanew\\lib\\site-packages (from trio-websocket~=0.9->selenium) (1.2.0)\n",
      "Requirement already satisfied: pysocks!=1.5.7,<2.0,>=1.5.6 in c:\\users\\hp\\anacondanew\\lib\\site-packages (from urllib3[socks]<3,>=1.26->selenium) (1.7.1)\n",
      "Requirement already satisfied: pycparser in c:\\users\\hp\\anacondanew\\lib\\site-packages (from cffi>=1.14->trio~=0.17->selenium) (2.21)\n",
      "Requirement already satisfied: h11<1,>=0.9.0 in c:\\users\\hp\\anacondanew\\lib\\site-packages (from wsproto>=0.14->trio-websocket~=0.9->selenium) (0.14.0)\n"
     ]
    }
   ],
   "source": [
    "!pip install selenium"
   ]
  },
  {
   "cell_type": "code",
   "execution_count": 2,
   "id": "dd963a98-49e7-4b81-acc9-5af3f4d352e9",
   "metadata": {},
   "outputs": [],
   "source": [
    "import selenium\n",
    "import pandas as pd\n",
    "from selenium import webdriver\n",
    "import warnings\n",
    "warnings.filterwarnings('ignore')\n",
    "from selenium.webdriver.common.by import By\n",
    "import time"
   ]
  },
  {
   "cell_type": "code",
   "execution_count": 3,
   "id": "3e0143b3-1746-4ed8-8195-801ea074f143",
   "metadata": {},
   "outputs": [],
   "source": [
    "driver = webdriver.Chrome()"
   ]
  },
  {
   "cell_type": "code",
   "execution_count": 4,
   "id": "23c2c31d-256f-45f7-aece-22160e35a1b5",
   "metadata": {},
   "outputs": [],
   "source": [
    "#opening the naukri page on automated chrome browser\n",
    "driver.get(\"https://www.naukri.com/\")"
   ]
  },
  {
   "cell_type": "code",
   "execution_count": 18,
   "id": "e1a16b6f-1a32-456b-b2ec-f4724825ec3c",
   "metadata": {},
   "outputs": [],
   "source": [
    "#entering the designation and location  as required in the question-"
   ]
  },
  {
   "cell_type": "code",
   "execution_count": 5,
   "id": "ac611830-6cd5-4049-88ea-ee1b62d9e65c",
   "metadata": {},
   "outputs": [],
   "source": [
    "Title=driver.find_element(By.CLASS_NAME,\"suggestor-input \")\n",
    "Title.send_keys(\"Data Scientist\")"
   ]
  },
  {
   "cell_type": "code",
   "execution_count": 7,
   "id": "866e3ca0-3dd6-49ac-ba43-e9046f9b390a",
   "metadata": {},
   "outputs": [],
   "source": [
    "location=driver.find_element(By.XPATH,\"/html/body/div[1]/div[7]/div/div/div[5]/div/div/div/div[1]/div/input\")\n",
    "location.send_keys(\"Delhi/NCR\")"
   ]
  },
  {
   "cell_type": "code",
   "execution_count": 8,
   "id": "4e6d22c7-89e1-436f-82b1-73e5149d5fd0",
   "metadata": {},
   "outputs": [],
   "source": [
    "search=driver.find_element(By.CLASS_NAME,\"qsbSubmit\")\n",
    "search.click()"
   ]
  },
  {
   "cell_type": "code",
   "execution_count": 9,
   "id": "61b8afaf-16fd-46c7-becc-1cd70869703e",
   "metadata": {},
   "outputs": [],
   "source": [
    "job_title=[]\n",
    "job_location=[]\n",
    "salary=[]\n",
    "company_name=[]\n",
    "experience_required=[]"
   ]
  },
  {
   "cell_type": "code",
   "execution_count": 10,
   "id": "e9554195-c1ae-497f-ae06-ed7bb19587d0",
   "metadata": {},
   "outputs": [],
   "source": [
    "# Scraping Job title from the given page\n",
    "title_tags=driver.find_elements(By.XPATH,'//div[@class=\"cust-job-tuple layout-wrapper lay-2 sjw__tuple \"]/div/a')\n",
    "for i in title_tags:\n",
    "     title=i.text\n",
    "     job_title.append(title)"
   ]
  },
  {
   "cell_type": "code",
   "execution_count": null,
   "id": "b734192b-3b07-4d4b-bdb1-899f905e845e",
   "metadata": {},
   "outputs": [],
   "source": [
    "\n",
    " # Scraping job location from the given page\n",
    "location_tags=driver.find_elements(By.XPATH,'//span[@class=\"locWdth\"]')\n",
    "for i in location_tags:\n",
    "     location=i.text\n",
    "     job_location.append(location)   "
   ]
  },
  {
   "cell_type": "code",
   "execution_count": null,
   "id": "41080d44-e551-4df3-87e0-202f4c872abe",
   "metadata": {},
   "outputs": [],
   "source": [
    "# Scraping job salary from the given page\n",
    "Salary_tags=driver.find_elements(By.XPATH,'//div[@class=\"ni-job-tuple-icon ni-job-tuple-icon-srp-rupee sal\"]')\n",
    "for i in salary_tags:\n",
    "     salary=i.text\n",
    "     job_salary.append(salary)"
   ]
  },
  {
   "cell_type": "code",
   "execution_count": null,
   "id": "9eb7b7bf-ee2d-4049-864a-3789e8c08386",
   "metadata": {},
   "outputs": [],
   "source": [
    "# Scraping company name from the given page \n",
    "company_tags=driver.find_elements(By.XPATH,'//div[@class=\" row2\"]/span/a[1]')\n",
    "for i in company_tags:\n",
    "    company=i.text\n",
    "    company_name.append(company)"
   ]
  },
  {
   "cell_type": "code",
   "execution_count": null,
   "id": "b201fa4f-1016-461f-aeb2-ba1c40a69e63",
   "metadata": {},
   "outputs": [],
   "source": [
    "# Scraping Job Experience from the given page\n",
    "experience_tags=driver.find_elements(By.XPATH,'//span[@class=\"expwdth\"]')\n",
    "for i in experience_tags:\n",
    "    exp=i.text\n",
    "    experience_required.append(exp)"
   ]
  },
  {
   "cell_type": "code",
   "execution_count": 11,
   "id": "38b341be-f0b2-44b9-9bd8-db3704fe32e1",
   "metadata": {},
   "outputs": [
    {
     "name": "stdout",
     "output_type": "stream",
     "text": [
      "20 0 0 0 0\n"
     ]
    }
   ],
   "source": [
    "print(len(job_title),len(job_location),len(salary),len(company_name),len(experience_required))"
   ]
  },
  {
   "cell_type": "code",
   "execution_count": null,
   "id": "846a6edd-4668-48ce-85b7-3d3bffb00797",
   "metadata": {},
   "outputs": [],
   "source": []
  },
  {
   "cell_type": "code",
   "execution_count": null,
   "id": "52baa3dd-5ea6-4bde-b685-9788564a90a4",
   "metadata": {},
   "outputs": [],
   "source": []
  },
  {
   "cell_type": "code",
   "execution_count": null,
   "id": "884a8bb9-f4d8-44f1-b8c7-60c1f5b507b1",
   "metadata": {},
   "outputs": [],
   "source": []
  },
  {
   "cell_type": "code",
   "execution_count": null,
   "id": "1ea9d987-8cb7-4e33-94b9-50112be3d970",
   "metadata": {},
   "outputs": [],
   "source": []
  },
  {
   "cell_type": "code",
   "execution_count": null,
   "id": "5cc72a43-7f07-419b-b6aa-1f14915c954b",
   "metadata": {},
   "outputs": [],
   "source": []
  },
  {
   "cell_type": "code",
   "execution_count": 21,
   "id": "9202206c-c4a1-424d-a8db-37035796d058",
   "metadata": {},
   "outputs": [
    {
     "ename": "AttributeError",
     "evalue": "module 'pandas' has no attribute 'Dataframe'",
     "output_type": "error",
     "traceback": [
      "\u001b[1;31m---------------------------------------------------------------------------\u001b[0m",
      "\u001b[1;31mAttributeError\u001b[0m                            Traceback (most recent call last)",
      "Cell \u001b[1;32mIn[21], line 2\u001b[0m\n\u001b[0;32m      1\u001b[0m \u001b[38;5;28;01mimport\u001b[39;00m \u001b[38;5;21;01mpandas\u001b[39;00m \u001b[38;5;28;01mas\u001b[39;00m \u001b[38;5;21;01mpd\u001b[39;00m\n\u001b[1;32m----> 2\u001b[0m df\u001b[38;5;241m=\u001b[39mpd\u001b[38;5;241m.\u001b[39mDataframe({\u001b[38;5;124m'\u001b[39m\u001b[38;5;124mTitle\u001b[39m\u001b[38;5;124m'\u001b[39m:job_title,\u001b[38;5;124m'\u001b[39m\u001b[38;5;124mLocation\u001b[39m\u001b[38;5;124m'\u001b[39m:job_location,\u001b[38;5;124m'\u001b[39m\u001b[38;5;124mCompany_name\u001b[39m\u001b[38;5;124m'\u001b[39m:company_name,\u001b[38;5;124m'\u001b[39m\u001b[38;5;124mExperience\u001b[39m\u001b[38;5;124m'\u001b[39m:experience_required})\n\u001b[0;32m      3\u001b[0m df\n",
      "\u001b[1;31mAttributeError\u001b[0m: module 'pandas' has no attribute 'Dataframe'"
     ]
    }
   ],
   "source": [
    "import pandas as pd\n",
    "df=pd.Dataframe({'Title':job_title,'Location':job_location,'Company_name':company_name,'Experience':experience_required})\n",
    "df"
   ]
  },
  {
   "cell_type": "code",
   "execution_count": null,
   "id": "dba1f46c-65b9-4777-bbbd-e845eeac92f5",
   "metadata": {},
   "outputs": [],
   "source": []
  },
  {
   "cell_type": "code",
   "execution_count": 23,
   "id": "528392b7-cb14-4ece-84eb-8b2fd967e329",
   "metadata": {},
   "outputs": [
    {
     "ename": "NameError",
     "evalue": "name 'driver' is not defined",
     "output_type": "error",
     "traceback": [
      "\u001b[1;31m---------------------------------------------------------------------------\u001b[0m",
      "\u001b[1;31mNameError\u001b[0m                                 Traceback (most recent call last)",
      "Cell \u001b[1;32mIn[23], line 2\u001b[0m\n\u001b[0;32m      1\u001b[0m \u001b[38;5;66;03m# to fetch the url\u001b[39;00m\n\u001b[1;32m----> 2\u001b[0m url\u001b[38;5;241m=\u001b[39mdriver\u001b[38;5;241m.\u001b[39mfind_elements(By\u001b[38;5;241m.\u001b[39mXPATH,\u001b[38;5;124m'\u001b[39m\u001b[38;5;124m//a[@class=\u001b[39m\u001b[38;5;124m\"\u001b[39m\u001b[38;5;124mtitle \u001b[39m\u001b[38;5;124m\"\u001b[39m\u001b[38;5;124m]\u001b[39m\u001b[38;5;124m'\u001b[39m)\n",
      "\u001b[1;31mNameError\u001b[0m: name 'driver' is not defined"
     ]
    }
   ],
   "source": [
    "# to fetch the url\n",
    "url=driver.find_elements(By.XPATH,'//a[@class=\"title \"]')"
   ]
  },
  {
   "cell_type": "code",
   "execution_count": 26,
   "id": "bb24540a-5485-4c76-81fd-8186e8015b1f",
   "metadata": {},
   "outputs": [
    {
     "ename": "NameError",
     "evalue": "name 'url' is not defined",
     "output_type": "error",
     "traceback": [
      "\u001b[1;31m---------------------------------------------------------------------------\u001b[0m",
      "\u001b[1;31mNameError\u001b[0m                                 Traceback (most recent call last)",
      "Cell \u001b[1;32mIn[26], line 1\u001b[0m\n\u001b[1;32m----> 1\u001b[0m \u001b[38;5;28;01mfor\u001b[39;00m i \u001b[38;5;129;01min\u001b[39;00m url[\u001b[38;5;241m0\u001b[39m:\u001b[38;5;241m11\u001b[39m]:  \u001b[38;5;66;03m#lets provide range to print only top 10 data\u001b[39;00m\n\u001b[0;32m      2\u001b[0m     \u001b[38;5;28mprint\u001b[39m(i\u001b[38;5;241m.\u001b[39mget_attribute(\u001b[38;5;124m'\u001b[39m\u001b[38;5;124mhref\u001b[39m\u001b[38;5;124m'\u001b[39m))\n",
      "\u001b[1;31mNameError\u001b[0m: name 'url' is not defined"
     ]
    }
   ],
   "source": [
    "for i in url[0:11]:  #lets provide range to print only top 10 data\n",
    "    print(i.get_attribute('href'))"
   ]
  },
  {
   "cell_type": "code",
   "execution_count": null,
   "id": "4404a5d9-32a9-47e8-8b03-31aef0cdb554",
   "metadata": {},
   "outputs": [],
   "source": [
    "job_titles=[]"
   ]
  },
  {
   "cell_type": "code",
   "execution_count": 24,
   "id": "b8595481-830e-4867-a091-16523f808736",
   "metadata": {},
   "outputs": [
    {
     "ename": "SyntaxError",
     "evalue": "invalid syntax (2145420841.py, line 5)",
     "output_type": "error",
     "traceback": [
      "\u001b[1;36m  Cell \u001b[1;32mIn[24], line 5\u001b[1;36m\u001b[0m\n\u001b[1;33m    for i in titles:\u001b[0m\n\u001b[1;37m    ^\u001b[0m\n\u001b[1;31mSyntaxError\u001b[0m\u001b[1;31m:\u001b[0m invalid syntax\n"
     ]
    }
   ],
   "source": [
    "start=0\n",
    "end=3\n",
    "for page in range(start,end):\n",
    "    titles=driver.find_elements(By.XPATH,//div[@class=\"cust-job-tuple layout-wrapper lay-2 sjw__tuple \"]/div/a')\n",
    "    for i in titles: \n",
    "        job_titles.append(i.text)\n",
    "    next_button=driver.find_element(By.XPATH,/html/body/div/div/main/div[1]/div[2]/div[3]/div/a[2]') \n",
    "    # Scrape data from next\n",
    "    next_button.click()\n",
    "    time.sleep()                                "
   ]
  },
  {
   "cell_type": "code",
   "execution_count": null,
   "id": "ff13b8f3-9a49-4914-a3d7-2ae0feb13ad3",
   "metadata": {},
   "outputs": [],
   "source": [
    "len(job_titles)"
   ]
  },
  {
   "cell_type": "code",
   "execution_count": null,
   "id": "842e403a-ed0c-4937-ae21-863bba597159",
   "metadata": {},
   "outputs": [],
   "source": [
    "job_titles"
   ]
  },
  {
   "cell_type": "code",
   "execution_count": null,
   "id": "64d44536-38de-4e98-9cfd-fd1074685750",
   "metadata": {},
   "outputs": [],
   "source": []
  },
  {
   "cell_type": "code",
   "execution_count": null,
   "id": "f8a030fb-d82d-49aa-b6bc-080a77ffdfb2",
   "metadata": {},
   "outputs": [],
   "source": [
    "Question:2"
   ]
  },
  {
   "cell_type": "code",
   "execution_count": null,
   "id": "c9a199a4-f710-4335-89ff-f8d84980222f",
   "metadata": {},
   "outputs": [],
   "source": [
    "#entering the designation and location  as required in the question-"
   ]
  },
  {
   "cell_type": "code",
   "execution_count": null,
   "id": "9b994ef8-b317-4fcb-a117-1454b8b1549d",
   "metadata": {},
   "outputs": [],
   "source": [
    "driver = webdriver.chrome()"
   ]
  },
  {
   "cell_type": "code",
   "execution_count": 8,
   "id": "ff04ab05-0a83-4905-b242-9f44943b8f5a",
   "metadata": {},
   "outputs": [
    {
     "ename": "NameError",
     "evalue": "name 'driver' is not defined",
     "output_type": "error",
     "traceback": [
      "\u001b[1;31m---------------------------------------------------------------------------\u001b[0m",
      "\u001b[1;31mNameError\u001b[0m                                 Traceback (most recent call last)",
      "Cell \u001b[1;32mIn[8], line 1\u001b[0m\n\u001b[1;32m----> 1\u001b[0m driver\u001b[38;5;241m.\u001b[39mget(\u001b[38;5;124m\"\u001b[39m\u001b[38;5;124mhttps://www.shine.com/\u001b[39m\u001b[38;5;124m\"\u001b[39m)\n",
      "\u001b[1;31mNameError\u001b[0m: name 'driver' is not defined"
     ]
    }
   ],
   "source": [
    "driver.get(\"https://www.shine.com/\")"
   ]
  },
  {
   "cell_type": "code",
   "execution_count": null,
   "id": "d95fa6ab-4f71-4b86-86e6-344b6662c216",
   "metadata": {},
   "outputs": [],
   "source": [
    "designation=driver.find_element(By.CLASS_NAME,\"suggestor-input \")\n",
    "designation.send_keys(\"Data Scientist\")"
   ]
  },
  {
   "cell_type": "code",
   "execution_count": null,
   "id": "4f9ce871-c51d-45b1-9d89-0c97fcda17a9",
   "metadata": {},
   "outputs": [],
   "source": [
    "location=driver.find_element(By.XPATH,\"/html/body/div[1]/div[6]/div/div/div[5]/div/div/div/div[1]/div\")\n",
    "location.send_keys(\"Delhi/NCR\")"
   ]
  },
  {
   "cell_type": "code",
   "execution_count": null,
   "id": "b534d116-e89e-4b38-b52e-518830e1b374",
   "metadata": {},
   "outputs": [],
   "source": [
    "search=driver.find_element(By.CLASS_NAME,\"qsbSubmit\")\n",
    "search.click()"
   ]
  },
  {
   "cell_type": "code",
   "execution_count": null,
   "id": "a12925e4-bb29-4ab4-a4bc-94994d9ee570",
   "metadata": {},
   "outputs": [],
   "source": [
    "job_title=[]\n",
    "job_location=[]\n"
   ]
  },
  {
   "cell_type": "code",
   "execution_count": null,
   "id": "adf14833-2aed-4a8c-aec4-c4cd17896e6c",
   "metadata": {},
   "outputs": [],
   "source": [
    "# Scraping Job title from the given page\n",
    "title_tags=driver.find_elements(By.XPATH,'//div[@class=\"cust-job-tuple layout-wrapper lay-2 sjw__tuple \"]/div/a')\n",
    "for i in title_tags:\n",
    "     title=i.text\n",
    "     job_title.append(title)"
   ]
  },
  {
   "cell_type": "code",
   "execution_count": null,
   "id": "d8533cef-13fd-4c53-9fed-baffe9ea1c98",
   "metadata": {},
   "outputs": [],
   "source": [
    " # Scraping job location from the given page\n",
    "location_tags=driver.find_elements(By.XPATH,'//span[@class=\"locWdth\"]')\n",
    "for i in location_tags:\n",
    "     location=i.text\n",
    "     job_location.append(location)   "
   ]
  },
  {
   "cell_type": "code",
   "execution_count": null,
   "id": "1b5aea53-2c96-4b2d-95dc-100d5fca8b07",
   "metadata": {},
   "outputs": [],
   "source": [
    "print(len(job_title),len(job_location),len(salary),len(company_name),len(experience_required))"
   ]
  },
  {
   "cell_type": "code",
   "execution_count": null,
   "id": "f33570cf-30c3-4063-b70e-f037c3d2e628",
   "metadata": {},
   "outputs": [],
   "source": [
    "import pandas as pd\n",
    "df=pd.Dataframe({'Title':job_title,'Location':job_location,'Company_name':company_name,'Experience':experience_required})\n",
    "df"
   ]
  },
  {
   "cell_type": "code",
   "execution_count": null,
   "id": "35519135-99fa-4e89-95c9-4cf5c487f194",
   "metadata": {},
   "outputs": [],
   "source": [
    "# to fetch the url\n",
    "url=driver.find_elements(By.XPATH,'//a[@class=\"title \"]')"
   ]
  },
  {
   "cell_type": "code",
   "execution_count": null,
   "id": "f63c0857-2d4f-4d14-b028-37523284fb98",
   "metadata": {},
   "outputs": [],
   "source": [
    "for i in url[0:11]:  #lets provide range to print only top 10 data\n",
    "    print(i.get_attribute('href'))"
   ]
  },
  {
   "cell_type": "code",
   "execution_count": null,
   "id": "811853cc-d4be-4b45-b353-d1598c522865",
   "metadata": {},
   "outputs": [],
   "source": [
    "job_titles=[]"
   ]
  },
  {
   "cell_type": "code",
   "execution_count": null,
   "id": "9ca456d1-39fa-49a1-b561-2dd3edc28f80",
   "metadata": {},
   "outputs": [],
   "source": [
    "start=0\n",
    "end=3\n",
    "for page in range(start,end):\n",
    "    titles=driver.find_elements(By.XPATH,//div[@class=\"cust-job-tuple layout-wrapper lay-2 sjw__tuple \"]/div/a')\n",
    "    for i in titles: \n",
    "        job_titles.append(i.text)\n",
    "    next_button=driver.find_element(By.XPATH,/html/body/div/div/main/div[1]/div[2]/div[3]/div/a[2]') \n",
    "    # Scrape data from next\n",
    "    next_button.click()\n",
    "    time.sleep()  "
   ]
  },
  {
   "cell_type": "code",
   "execution_count": null,
   "id": "3d871920-f237-474f-9bca-1082cba54973",
   "metadata": {},
   "outputs": [],
   "source": [
    "len(job_titles)"
   ]
  },
  {
   "cell_type": "code",
   "execution_count": null,
   "id": "cb6b0b8a-4e63-4c25-89d9-a9ff474e4432",
   "metadata": {},
   "outputs": [],
   "source": [
    "job_titles"
   ]
  },
  {
   "cell_type": "code",
   "execution_count": null,
   "id": "ac7af99c-dd82-4730-a69f-733310703523",
   "metadata": {},
   "outputs": [],
   "source": []
  },
  {
   "cell_type": "code",
   "execution_count": null,
   "id": "c3488fab-1b9e-46f2-a945-dd36452f7f79",
   "metadata": {},
   "outputs": [],
   "source": []
  },
  {
   "cell_type": "code",
   "execution_count": null,
   "id": "bb487664-e18a-4e36-af0d-3e55f7ee06fe",
   "metadata": {},
   "outputs": [],
   "source": []
  },
  {
   "cell_type": "code",
   "execution_count": null,
   "id": "e9ec7037-20a0-4286-a865-e3bda5e531f5",
   "metadata": {},
   "outputs": [],
   "source": []
  },
  {
   "cell_type": "code",
   "execution_count": null,
   "id": "d3fc8e06-219e-43bb-9bc8-04cc6a49a6e5",
   "metadata": {},
   "outputs": [],
   "source": []
  },
  {
   "cell_type": "code",
   "execution_count": null,
   "id": "9b1bfdd7-9e2b-417c-9b75-b11b0688b75e",
   "metadata": {},
   "outputs": [],
   "source": []
  },
  {
   "cell_type": "code",
   "execution_count": null,
   "id": "52e7606e-a654-407d-bdb4-934c4e004792",
   "metadata": {},
   "outputs": [],
   "source": []
  },
  {
   "cell_type": "code",
   "execution_count": null,
   "id": "65cada85-03bf-491d-92ea-6a2db7a30a9e",
   "metadata": {},
   "outputs": [],
   "source": []
  },
  {
   "cell_type": "code",
   "execution_count": null,
   "id": "54f7e9cf-ebfc-4c18-b116-8b070871ebd4",
   "metadata": {},
   "outputs": [],
   "source": []
  }
 ],
 "metadata": {
  "kernelspec": {
   "display_name": "Python 3 (ipykernel)",
   "language": "python",
   "name": "python3"
  },
  "language_info": {
   "codemirror_mode": {
    "name": "ipython",
    "version": 3
   },
   "file_extension": ".py",
   "mimetype": "text/x-python",
   "name": "python",
   "nbconvert_exporter": "python",
   "pygments_lexer": "ipython3",
   "version": "3.11.4"
  }
 },
 "nbformat": 4,
 "nbformat_minor": 5
}
